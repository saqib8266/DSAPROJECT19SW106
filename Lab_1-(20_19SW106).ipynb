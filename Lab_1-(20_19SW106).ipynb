{
  "nbformat": 4,
  "nbformat_minor": 0,
  "metadata": {
    "colab": {
      "provenance": [],
      "authorship_tag": "ABX9TyNR1ifiu1xrcadcl0B2xYKL",
      "include_colab_link": true
    },
    "kernelspec": {
      "name": "python3",
      "display_name": "Python 3"
    },
    "language_info": {
      "name": "python"
    }
  },
  "cells": [
    {
      "cell_type": "markdown",
      "metadata": {
        "id": "view-in-github",
        "colab_type": "text"
      },
      "source": [
        "<a href=\"https://colab.research.google.com/github/saqib8266/DSAPROJECT19SW106/blob/main/Lab_1-(20_19SW106).ipynb\" target=\"_parent\"><img src=\"https://colab.research.google.com/assets/colab-badge.svg\" alt=\"Open In Colab\"/></a>"
      ]
    },
    {
      "cell_type": "markdown",
      "source": [
        "Lab-01: Data Types and Operators\n",
        "Rollno: 20-19SW106\n",
        "Section: II"
      ],
      "metadata": {
        "id": "FiDOU34lHxDh"
      }
    },
    {
      "cell_type": "markdown",
      "source": [
        "Task-1"
      ],
      "metadata": {
        "id": "IWqvIjtshLS1"
      }
    },
    {
      "cell_type": "code",
      "source": [
        "num1=2\n",
        "num2=3\n",
        "print('Your numbers are {} and {}'.format(num1,num2))"
      ],
      "metadata": {
        "colab": {
          "base_uri": "https://localhost:8080/"
        },
        "id": "bsxr2EknIQMA",
        "outputId": "4e2897a1-c007-4145-a60b-5480cb325e5d"
      },
      "execution_count": 6,
      "outputs": [
        {
          "output_type": "stream",
          "name": "stdout",
          "text": [
            "Your numbers are 2 and 3\n"
          ]
        }
      ]
    },
    {
      "cell_type": "markdown",
      "source": [
        "Task-2"
      ],
      "metadata": {
        "id": "q_WmnZALhROG"
      }
    },
    {
      "cell_type": "code",
      "source": [
        "word= 'hello world'\n",
        "print(word.capitalize())\n",
        "print(word.casefold())\n",
        "print(word.encode())\n",
        "print(word.isalnum())\n",
        "print(word.isalpha())\n",
        "print(word.isdigit())\n",
        "print(word.islower())\n",
        "print(word.isupper())\n",
        "print(word.isspace())\n",
        "print(word.istitle())\n",
        "print(word.lstrip())\n",
        "print(word.lower())\n",
        "print(word.upper())\n",
        "\n",
        "\n",
        "\n"
      ],
      "metadata": {
        "colab": {
          "base_uri": "https://localhost:8080/"
        },
        "id": "qxK6Cwn4JXXX",
        "outputId": "783c9757-65a0-4275-8802-f876631982d5"
      },
      "execution_count": 31,
      "outputs": [
        {
          "output_type": "stream",
          "name": "stdout",
          "text": [
            "Hello world\n",
            "hello world\n",
            "b'hello world'\n",
            "False\n",
            "False\n",
            "False\n",
            "True\n",
            "False\n",
            "False\n",
            "False\n"
          ]
        }
      ]
    },
    {
      "cell_type": "code",
      "source": [
        "word =\"hello world\"\n",
        "count=word.count (\"1\")\n",
        "center=word.center (10,\"_\")\n",
        "ends_with=word.endswith (\"hello\")\n",
        "expand_tabs=word.expandtabs (2)\n",
        "index=word.find (\"4\")\n",
        "joined_words=\"_\".join (word)\n",
        "replaced_word=word.replace (\"world\", \"Ali \")\n",
        "refind=word.rfind (\"o\")\n",
        "rindex=word.rindex(\"l\")\n",
        "\n",
        "\n",
        "print(count)\n",
        "print(center)\n",
        "print(ends_with)\n",
        "print(expand_tabs)\n",
        "print(index)\n",
        "print(joined_words)\n",
        "print(replaced_word)\n",
        "print(refind)\n",
        "print(rindex)\n"
      ],
      "metadata": {
        "colab": {
          "base_uri": "https://localhost:8080/"
        },
        "id": "DQpbNeUKfTQ-",
        "outputId": "3439b30b-1119-49b1-993e-87349c52f1bb"
      },
      "execution_count": 49,
      "outputs": [
        {
          "output_type": "stream",
          "name": "stdout",
          "text": [
            "0\n",
            "hello world\n",
            "False\n",
            "hello world\n",
            "-1\n",
            "h_e_l_l_o_ _w_o_r_l_d\n",
            "hello Ali \n",
            "7\n",
            "9\n"
          ]
        }
      ]
    },
    {
      "cell_type": "markdown",
      "source": [
        "Task-3"
      ],
      "metadata": {
        "id": "h4GPmiwyhWZg"
      }
    },
    {
      "cell_type": "code",
      "source": [
        "month = 5\n",
        "days_in_month = [31,28,31,30,31,30,31,31,30,31,30,31]\n",
        "print(days_in_month[month-1])"
      ],
      "metadata": {
        "colab": {
          "base_uri": "https://localhost:8080/"
        },
        "id": "7cefmqUBhce-",
        "outputId": "98df0ce7-48e0-4983-d0b4-437a29b4ec03"
      },
      "execution_count": 53,
      "outputs": [
        {
          "output_type": "stream",
          "name": "stdout",
          "text": [
            "31\n"
          ]
        }
      ]
    },
    {
      "cell_type": "markdown",
      "source": [
        "Task-4"
      ],
      "metadata": {
        "id": "eyI4EUw1iPAq"
      }
    },
    {
      "cell_type": "code",
      "source": [
        "eclipse_dates = ['June 21, 2001', 'December 4, 2002', 'November 23, 2003',\n",
        "                 'March 29, 2006', 'August 1, 2008', 'July 22, 2009',\n",
        "                 'July 11, 2010', 'November 13, 2012', 'March 20, 2015',\n",
        "                 'March 9, 2016']\n",
        "\n",
        "print(eclipse_dates[-3:])\n"
      ],
      "metadata": {
        "colab": {
          "base_uri": "https://localhost:8080/"
        },
        "id": "ZQz5TVoziRU_",
        "outputId": "54e489c8-49e4-4088-a43a-ffd1a0d1397d"
      },
      "execution_count": 54,
      "outputs": [
        {
          "output_type": "stream",
          "name": "stdout",
          "text": [
            "['November 13, 2012', 'March 20, 2015', 'March 9, 2016']\n"
          ]
        }
      ]
    },
    {
      "cell_type": "markdown",
      "source": [
        "Task-5"
      ],
      "metadata": {
        "id": "ly4TZmIGi42p"
      }
    },
    {
      "cell_type": "code",
      "source": [
        "students = {\n",
        "    'Sheeraz': {\n",
        "        'age': 18,\n",
        "        'grade': '12th',\n",
        "        'subjects': ['Math', 'Science', 'English'],\n",
        "    },\n",
        "    'Saqib': {\n",
        "        'age': 17,\n",
        "        'grade': '11th',\n",
        "        'subjects': ['History', 'Geography', 'Spanish'],\n",
        "    },\n",
        "    'Irfaan': {\n",
        "        'age': 16,\n",
        "        'grade': '10th',\n",
        "        'subjects': ['Physics', 'Chemistry', 'Biology'],\n",
        "    }\n",
        "}\n",
        "print(students['Sheeraz']['age'])\n",
        "print(students['Saqib']['subjects'])"
      ],
      "metadata": {
        "colab": {
          "base_uri": "https://localhost:8080/"
        },
        "id": "R1WTVhjmi9uM",
        "outputId": "20deb307-7b9f-4538-cba1-a6fc55d44f93"
      },
      "execution_count": 55,
      "outputs": [
        {
          "output_type": "stream",
          "name": "stdout",
          "text": [
            "18\n",
            "['History', 'Geography', 'Spanish']\n"
          ]
        }
      ]
    }
  ]
}